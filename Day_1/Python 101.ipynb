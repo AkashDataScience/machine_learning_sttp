{
 "cells": [
  {
   "cell_type": "markdown",
   "id": "ad484a35-b5be-4744-97c8-556e69e6d37e",
   "metadata": {},
   "source": [
    "# Built-in Data Types"
   ]
  },
  {
   "cell_type": "markdown",
   "id": "c7f1460b-d288-4bbe-bb88-545c9ffb58af",
   "metadata": {},
   "source": [
    "## String"
   ]
  },
  {
   "cell_type": "code",
   "execution_count": null,
   "id": "830c6a61-621d-4310-90ef-008e3685b209",
   "metadata": {},
   "outputs": [],
   "source": [
    "print(\"Hello world\")"
   ]
  },
  {
   "cell_type": "code",
   "execution_count": null,
   "id": "b5746500-379e-470a-a5c4-7b6d4cbd1fad",
   "metadata": {},
   "outputs": [],
   "source": [
    "print(\"Good\n",
    "Morning\")"
   ]
  },
  {
   "cell_type": "code",
   "execution_count": null,
   "id": "2a9bbe01-656b-4a7a-a1cd-283109f2e19f",
   "metadata": {},
   "outputs": [],
   "source": [
    "print(\"Welcome to \"Hands-on Python Programming Basics\"\")"
   ]
  },
  {
   "cell_type": "code",
   "execution_count": null,
   "id": "d17659cc-8d99-4715-b9d1-3d4fd04cba65",
   "metadata": {},
   "outputs": [],
   "source": [
    "print(\"\"\"This is one of the lines taken from Shashi Tharoors interview.\n",
    "He said, that one the democracy is hindered for its progress by the\n",
    "rightist movements and their jabs at the structure of the secularism,\n",
    "then it becomes very difficult to beat them at the democratic\n",
    "electctions becuase now people are infused with the ideas that have no\n",
    "relation to their earnings or finances, but the whims and fancies of\n",
    "what they believe to be true...\"\"\")"
   ]
  },
  {
   "cell_type": "markdown",
   "id": "04431da1-c53e-4e44-92ea-561b9acc3cc4",
   "metadata": {},
   "source": [
    "### String Concatenation"
   ]
  },
  {
   "cell_type": "code",
   "execution_count": null,
   "id": "7534c9e1-e1fd-4455-a721-c31cb7f64482",
   "metadata": {},
   "outputs": [],
   "source": [
    "prefix = 'Dr.'\n",
    "first_name = 'Nitesh'\n",
    "last_name = 'Funde'\n",
    "full_name = prefix + \" \" + first_name + \" \" + last_name\n",
    "print(full_name)"
   ]
  },
  {
   "cell_type": "markdown",
   "id": "c1cf1fe0-5490-4178-919e-4c0a49dc5be1",
   "metadata": {},
   "source": [
    "### Without Concatenation"
   ]
  },
  {
   "cell_type": "code",
   "execution_count": null,
   "id": "00a81ef8-e843-4daf-9910-14fa5e6e7017",
   "metadata": {},
   "outputs": [],
   "source": [
    "full_name = f\"{prefix} {first_name} {last_name}\"\n",
    "print(full_name)"
   ]
  },
  {
   "cell_type": "code",
   "execution_count": null,
   "id": "d3421ec7-9657-4d6e-8567-d56ea31cee7a",
   "metadata": {},
   "outputs": [],
   "source": [
    "a = 10\n",
    "b = 4\n",
    "\n",
    "print(f\"A: {a*a}, B: {b + a*b}\")"
   ]
  },
  {
   "cell_type": "markdown",
   "id": "cd3babaf-ef06-429c-8eab-ccfb40f0369c",
   "metadata": {},
   "source": [
    "## List"
   ]
  },
  {
   "cell_type": "code",
   "execution_count": null,
   "id": "fb6270cc-c44a-42e4-a9eb-23cf0275f6a6",
   "metadata": {},
   "outputs": [],
   "source": [
    "a = [1, \"red\", \"r\", 3 + 4j, [3, 4, 'a']]\n",
    "a"
   ]
  },
  {
   "cell_type": "code",
   "execution_count": null,
   "id": "53bd89b6-2969-475b-8dc4-8634344740dd",
   "metadata": {},
   "outputs": [],
   "source": [
    "a = [1,\n",
    "     \"red\",\n",
    "     \"r\",\n",
    "     3 + 4j,\n",
    "     [3, 4, 'a']\n",
    "     ]\n",
    "a"
   ]
  },
  {
   "cell_type": "markdown",
   "id": "61c1668f-2dfa-44fd-9e4a-67b0ec52a471",
   "metadata": {},
   "source": [
    "### Indexing"
   ]
  },
  {
   "cell_type": "code",
   "execution_count": null,
   "id": "95937b7f-dc30-4627-a935-1dd0fadfb35a",
   "metadata": {},
   "outputs": [],
   "source": [
    "a[0]"
   ]
  },
  {
   "cell_type": "markdown",
   "id": "b28f1898-1f2a-4a97-a303-e7b9041f78c0",
   "metadata": {},
   "source": [
    "### Slicing"
   ]
  },
  {
   "cell_type": "code",
   "execution_count": null,
   "id": "77b8b37a-673d-4dde-8227-089c68d53159",
   "metadata": {},
   "outputs": [],
   "source": [
    "a[1:3]"
   ]
  },
  {
   "cell_type": "markdown",
   "id": "50e18f1f-a47f-48a3-804f-d3d6bdc20f70",
   "metadata": {},
   "source": [
    "### Mutation"
   ]
  },
  {
   "cell_type": "code",
   "execution_count": null,
   "id": "82c3c981-21d1-4523-9ad3-f44985a16ca9",
   "metadata": {},
   "outputs": [],
   "source": [
    "a[0] = 1"
   ]
  },
  {
   "cell_type": "markdown",
   "id": "c9bfe07d-23ee-467c-9674-17f7d2cce8ae",
   "metadata": {},
   "source": [
    "## Tuple"
   ]
  },
  {
   "cell_type": "code",
   "execution_count": null,
   "id": "fccab4c4-8efa-4e8c-ba12-b4f472658a8b",
   "metadata": {},
   "outputs": [],
   "source": [
    "t = (1, \"Akash\", 3.4, 4 + 5j)\n",
    "t"
   ]
  },
  {
   "cell_type": "markdown",
   "id": "10fdee61-e8e1-4690-b812-e2a1d4735b3c",
   "metadata": {},
   "source": [
    "### Indexing"
   ]
  },
  {
   "cell_type": "code",
   "execution_count": null,
   "id": "57c2e79a-e309-4a9c-b4ba-28291a72c6d9",
   "metadata": {},
   "outputs": [],
   "source": [
    "t[0]"
   ]
  },
  {
   "cell_type": "markdown",
   "id": "81ed1aee-9b83-41da-b360-09df4dfa3a94",
   "metadata": {},
   "source": [
    "### Slicing"
   ]
  },
  {
   "cell_type": "code",
   "execution_count": null,
   "id": "934a7bb2-b990-42a6-904b-9f601a3b01d2",
   "metadata": {},
   "outputs": [],
   "source": [
    "t[1:3]"
   ]
  },
  {
   "cell_type": "markdown",
   "id": "919722f9-ab4c-4a7b-b373-f8ce8d65edef",
   "metadata": {},
   "source": [
    "### Mutation???"
   ]
  },
  {
   "cell_type": "code",
   "execution_count": null,
   "id": "d8f4b220-554f-4e62-871f-4df36c3f499e",
   "metadata": {},
   "outputs": [],
   "source": [
    "t[0] = 1"
   ]
  },
  {
   "cell_type": "markdown",
   "id": "9091e755-9d0d-4870-97fe-19bccae71bb0",
   "metadata": {},
   "source": [
    "## Set"
   ]
  },
  {
   "cell_type": "code",
   "execution_count": null,
   "id": "6de10b83-1885-49e0-8046-e4b6ba6e893b",
   "metadata": {},
   "outputs": [],
   "source": [
    "s = {1, 1, \"Akash\", 3.4, 4 + 5j}\n",
    "s"
   ]
  },
  {
   "cell_type": "markdown",
   "id": "66018791-8ca4-4ddb-8178-4c6fdd14f385",
   "metadata": {},
   "source": [
    "### Indexing???"
   ]
  },
  {
   "cell_type": "code",
   "execution_count": null,
   "id": "88acb922-7ae7-4dce-a0c2-fa0a95eb882f",
   "metadata": {},
   "outputs": [],
   "source": [
    "s[0]"
   ]
  },
  {
   "cell_type": "markdown",
   "id": "e6d956fb-d871-46ba-a890-0a90d786254f",
   "metadata": {},
   "source": [
    "### Slicing???"
   ]
  },
  {
   "cell_type": "code",
   "execution_count": null,
   "id": "58aa4026-3955-4db1-987e-5d0ed2e4469c",
   "metadata": {},
   "outputs": [],
   "source": [
    "s[1:3]"
   ]
  },
  {
   "cell_type": "markdown",
   "id": "e05708d0-1d35-4e90-9efd-27125b56239f",
   "metadata": {},
   "source": [
    "### Mutation???"
   ]
  },
  {
   "cell_type": "code",
   "execution_count": null,
   "id": "121100c0-331d-4cc1-baec-43ef290d0c96",
   "metadata": {},
   "outputs": [],
   "source": [
    "s[0] = 1"
   ]
  },
  {
   "cell_type": "markdown",
   "id": "61d784e5-3455-41e0-a435-326f0c85336a",
   "metadata": {},
   "source": [
    "## Dictionary"
   ]
  },
  {
   "cell_type": "code",
   "execution_count": null,
   "id": "0e6df1b4-49eb-493c-b2ab-42107d6b3599",
   "metadata": {},
   "outputs": [],
   "source": [
    "d = {\"key1\": 1, 3: \"Akash\", 4: 3.4, \"key2\": 4 + 5j}\n",
    "d"
   ]
  },
  {
   "cell_type": "markdown",
   "id": "ef07cd28-e84c-4f57-8389-b053fecdd041",
   "metadata": {},
   "source": [
    "### Indexing"
   ]
  },
  {
   "cell_type": "code",
   "execution_count": null,
   "id": "9cd7889d-2d2b-4957-b66b-fba55c9b2f00",
   "metadata": {},
   "outputs": [],
   "source": [
    "d[\"key1\"]"
   ]
  },
  {
   "cell_type": "code",
   "execution_count": null,
   "id": "716bb4d9-82e7-44bd-b544-3e123d17db12",
   "metadata": {},
   "outputs": [],
   "source": [
    "d[3]"
   ]
  },
  {
   "cell_type": "markdown",
   "id": "ea5cd9fc-7cd2-4bed-b0e6-39ed59c12180",
   "metadata": {},
   "source": [
    "### Mutation???"
   ]
  },
  {
   "cell_type": "code",
   "execution_count": null,
   "id": "5455db31-c1e0-4f49-a008-d59bdbe4d23a",
   "metadata": {},
   "outputs": [],
   "source": [
    "d[4] = 4\n",
    "d"
   ]
  },
  {
   "cell_type": "code",
   "execution_count": null,
   "id": "8f554e9d-d5ed-4ef6-96fa-361e030449ce",
   "metadata": {},
   "outputs": [],
   "source": [
    "d[\"key2\"] = d[\"key2\"] + 1 + 2j\n",
    "d"
   ]
  },
  {
   "cell_type": "markdown",
   "id": "d1226cb3-13e7-4d36-bb03-915c988f7b89",
   "metadata": {},
   "source": [
    "# Conditions"
   ]
  },
  {
   "cell_type": "code",
   "execution_count": null,
   "id": "5374a352-f85c-4087-9f87-149536917134",
   "metadata": {},
   "outputs": [],
   "source": [
    "a = 10\n",
    "b = -2\n",
    "c = 30\n",
    "\n",
    "if a > 5 and b < 0 or c > 100:\n",
    "    print(f\"Yes {a} {c + b}\")"
   ]
  },
  {
   "cell_type": "code",
   "execution_count": null,
   "id": "f00b64bc-e94c-4353-8e0b-1e9021c52079",
   "metadata": {},
   "outputs": [],
   "source": [
    "if a > 5 \n",
    "and b < 0 \n",
    "  or c > 100:\n",
    "  print(f\"Yes {a} {c + b}\")"
   ]
  },
  {
   "cell_type": "code",
   "execution_count": null,
   "id": "dfe3a57e-8b09-4c7b-a88b-4587b6096bf0",
   "metadata": {},
   "outputs": [],
   "source": [
    "a = 4\n",
    "if a < 3:\n",
    "  print(\"a<3\")\n",
    "else:\n",
    "  print(\"a>3\")"
   ]
  },
  {
   "cell_type": "code",
   "execution_count": null,
   "id": "884d64ae-a66b-469b-9ece-e3672e845d86",
   "metadata": {},
   "outputs": [],
   "source": [
    "a = 15\n",
    "\n",
    "if a < 5:\n",
    "  print(\"a is less than 5\")\n",
    "elif a < 10:\n",
    "  print(\"a is more than 5 but less than 10\")\n",
    "else:\n",
    "  print(\"a is more than 10\")"
   ]
  },
  {
   "cell_type": "markdown",
   "id": "80fc6ccb-c408-4ef7-bca4-4959fac3ade3",
   "metadata": {},
   "source": [
    "## One liner"
   ]
  },
  {
   "cell_type": "code",
   "execution_count": null,
   "id": "a6e77556-d331-425a-839d-d5558e2a4dee",
   "metadata": {},
   "outputs": [],
   "source": [
    "time = 6\n",
    "\n",
    "print(\"Hello\") if time < 5 else print(\"Goodbye\")"
   ]
  },
  {
   "cell_type": "markdown",
   "id": "edbb3be0-3b83-489c-af67-964fb326b158",
   "metadata": {},
   "source": [
    "# Variable location"
   ]
  },
  {
   "cell_type": "code",
   "execution_count": null,
   "id": "be5b3e1c-8bd1-4882-95d7-9e03a4c94f1f",
   "metadata": {},
   "outputs": [],
   "source": [
    "cc = \"organge\"\n",
    "dd = \"organge\"\n",
    "ee = \"organge\""
   ]
  },
  {
   "cell_type": "code",
   "execution_count": null,
   "id": "5d82cbaf-010b-42a2-bb7e-0ed195b4a1af",
   "metadata": {},
   "outputs": [],
   "source": [
    "id(cc), id(dd), id(ee)"
   ]
  },
  {
   "cell_type": "code",
   "execution_count": null,
   "id": "41801a81-3fb1-4446-9404-a9580c731d38",
   "metadata": {},
   "outputs": [],
   "source": [
    "id(1)"
   ]
  },
  {
   "cell_type": "code",
   "execution_count": null,
   "id": "9f1d7c88-8d96-4fb9-aec8-639aabaa8491",
   "metadata": {},
   "outputs": [],
   "source": [
    "g = 1\n",
    "id(g)"
   ]
  },
  {
   "cell_type": "code",
   "execution_count": null,
   "id": "db7f7a94-5752-4eab-916c-4ad17323a65c",
   "metadata": {},
   "outputs": [],
   "source": [
    "del cc, dd, ee"
   ]
  },
  {
   "cell_type": "code",
   "execution_count": null,
   "id": "aedeafd5-b42d-499e-b6ed-5b66edc4632c",
   "metadata": {},
   "outputs": [],
   "source": [
    "cc"
   ]
  },
  {
   "cell_type": "code",
   "execution_count": null,
   "id": "65ad7dd8-bb14-45d8-8591-463d7721be27",
   "metadata": {},
   "outputs": [],
   "source": [
    "kk = \"organge\"\n",
    "id(kk)"
   ]
  },
  {
   "cell_type": "code",
   "execution_count": null,
   "id": "632225bd-6324-4426-b961-4f535534d7cf",
   "metadata": {},
   "outputs": [],
   "source": [
    "p = 147\n",
    "print(id(p))\n",
    "del p\n",
    "u = 147\n",
    "print(id(u))"
   ]
  },
  {
   "cell_type": "markdown",
   "id": "adc08f95-0e89-4563-b76e-40b140416bdc",
   "metadata": {},
   "source": [
    "# While loops"
   ]
  },
  {
   "cell_type": "code",
   "execution_count": null,
   "id": "aa09791f-471c-4266-a4d7-701e4ce932ab",
   "metadata": {},
   "outputs": [],
   "source": [
    "i = 0\n",
    "\n",
    "while i < 5:\n",
    "  print(i)\n",
    "  i = i + 1"
   ]
  },
  {
   "cell_type": "code",
   "execution_count": null,
   "id": "0c0e4fc6-c1d5-4fd8-8ae0-ed0c7f6b6654",
   "metadata": {},
   "outputs": [],
   "source": [
    "while True:\n",
    "  print(\"something\")\n",
    "  break"
   ]
  },
  {
   "cell_type": "markdown",
   "id": "6d37993f-6eb1-466f-a2e0-09f212d96559",
   "metadata": {},
   "source": [
    "# For loops"
   ]
  },
  {
   "cell_type": "code",
   "execution_count": null,
   "id": "d9297f9c-4df7-4859-9a72-7a772acaf7e0",
   "metadata": {},
   "outputs": [],
   "source": [
    "range(10)"
   ]
  },
  {
   "cell_type": "code",
   "execution_count": null,
   "id": "ad799572-d8f1-46fc-a8b9-847a8bd447c7",
   "metadata": {},
   "outputs": [],
   "source": [
    "l = [1, 2, 3, 4, 8, \"red\"]\n",
    "t = (\"red\", \"green\", \"blue\", 45)\n",
    "r = range(10)\n",
    "\n",
    "for x in l:\n",
    "  print(x)"
   ]
  },
  {
   "cell_type": "code",
   "execution_count": null,
   "id": "01a14c97-fc87-4bd2-b0ff-39c17821dfed",
   "metadata": {},
   "outputs": [],
   "source": [
    "for x in t:\n",
    "  print(x)"
   ]
  },
  {
   "cell_type": "code",
   "execution_count": null,
   "id": "aae775d1-ac61-46de-954d-82ad8b47af70",
   "metadata": {},
   "outputs": [],
   "source": [
    "for x in r:\n",
    "  print(x)"
   ]
  },
  {
   "cell_type": "code",
   "execution_count": null,
   "id": "abb00a0c-dbee-4525-ad42-1141557b541d",
   "metadata": {},
   "outputs": [],
   "source": [
    "for x in range(len(l)):\n",
    "  print(x)"
   ]
  },
  {
   "cell_type": "code",
   "execution_count": null,
   "id": "2d48cae9-b7b6-4308-89a9-ee4a93eb26d8",
   "metadata": {},
   "outputs": [],
   "source": [
    "for num, data in enumerate(l):\n",
    "  print(f'at {num} we have {data}')"
   ]
  },
  {
   "cell_type": "markdown",
   "id": "40afd228-739a-495c-9017-230de5cab39f",
   "metadata": {},
   "source": [
    "# Nor sure if your logic will work?"
   ]
  },
  {
   "cell_type": "code",
   "execution_count": null,
   "id": "05ae4e56-ae46-4a98-ae25-cccd788a5e29",
   "metadata": {},
   "outputs": [],
   "source": [
    "a = 10\n",
    "b = 0\n",
    "\n",
    "a / b"
   ]
  },
  {
   "cell_type": "code",
   "execution_count": null,
   "id": "37b732a9-2040-487f-9488-286e3b0227c6",
   "metadata": {},
   "outputs": [],
   "source": [
    "a = 10\n",
    "b = 10\n",
    "\n",
    "try:\n",
    "  a/b\n",
    "  print(\"works\")\n",
    "except ZeroDivisionError:\n",
    "  print(\"b was 0 dude!\")"
   ]
  },
  {
   "cell_type": "code",
   "execution_count": null,
   "id": "a2dad12b-cca7-4e67-a6d0-a3ec0f299e1f",
   "metadata": {},
   "outputs": [],
   "source": [
    "a = 10\n",
    "b = 0\n",
    "\n",
    "try:\n",
    "  a/b\n",
    "  print(\"works\")\n",
    "except ZeroDivisionError:\n",
    "  print(\"b was 0 dude!\")\n",
    "finally:\n",
    "  print(\"I will always work\")"
   ]
  },
  {
   "cell_type": "code",
   "execution_count": null,
   "id": "079c9fa3-052a-4ca9-a5a9-38a92081cf55",
   "metadata": {},
   "outputs": [],
   "source": [
    "a = 0\n",
    "b = 2\n",
    "\n",
    "while a < 3:\n",
    "    print(\"____________________\")\n",
    "    a += 1 # a = a + 1\n",
    "    b -= 1\n",
    "    try:\n",
    "        res = a / b\n",
    "    except ZeroDivisionError:\n",
    "        print(f'a = {a}, b = {b} - division by 0 ZDE Step')\n",
    "        res = 0\n",
    "        continue\n",
    "    finally:\n",
    "        print(f'a = {a}, b = {b} - Finally Step')\n",
    "    print(f'a = {a}, b = {b} - main loop')"
   ]
  },
  {
   "cell_type": "markdown",
   "id": "5ed687b0-ac65-4379-9f04-474bd5840bf6",
   "metadata": {},
   "source": [
    "# Functions"
   ]
  },
  {
   "cell_type": "code",
   "execution_count": null,
   "id": "9d9e6b59-919f-4770-bbb5-2c625e9df9af",
   "metadata": {},
   "outputs": [],
   "source": [
    "def my_func():\n",
    "  print(\"This is our first fuinction\")\n",
    "\n",
    "my_func()"
   ]
  },
  {
   "cell_type": "code",
   "execution_count": null,
   "id": "31c476eb-9f17-4b9d-ad8b-f7375cb77e06",
   "metadata": {},
   "outputs": [],
   "source": [
    "my_func"
   ]
  },
  {
   "cell_type": "code",
   "execution_count": null,
   "id": "08662bc3-6a70-490d-801d-aa3012235d61",
   "metadata": {},
   "outputs": [],
   "source": [
    "print"
   ]
  },
  {
   "cell_type": "code",
   "execution_count": null,
   "id": "0915dd36-471b-4e9b-bbe2-30c49d7103f3",
   "metadata": {},
   "outputs": [],
   "source": [
    "def my_func(a, b):\n",
    "  c = a + b\n",
    "  return c\n",
    "my_func(1, 4)"
   ]
  },
  {
   "cell_type": "code",
   "execution_count": null,
   "id": "4cf283f1-f61a-44f4-a82e-2fa4cfdf3c05",
   "metadata": {},
   "outputs": [],
   "source": [
    "my_func(1.5, '4')"
   ]
  },
  {
   "cell_type": "code",
   "execution_count": null,
   "id": "2c8bf8b5-781a-40ad-84be-9ee670a41276",
   "metadata": {},
   "outputs": [],
   "source": [
    "def my_func(a, b):\n",
    "  c = a * b\n",
    "  return c\n",
    "my_func(2, \"*\")"
   ]
  },
  {
   "cell_type": "code",
   "execution_count": null,
   "id": "cfa5bb39-b24a-42e7-aab4-2c5a2fdb4683",
   "metadata": {},
   "outputs": [],
   "source": [
    "c"
   ]
  },
  {
   "cell_type": "code",
   "execution_count": null,
   "id": "f3be1167-7078-475e-98a1-ae05c6ade665",
   "metadata": {},
   "outputs": [],
   "source": [
    "for i in range(1,6):\n",
    "    print('*'*i)"
   ]
  },
  {
   "cell_type": "markdown",
   "id": "50627fea-406d-4cfb-b2bc-bf2bf0ec801c",
   "metadata": {},
   "source": [
    "## Arguments"
   ]
  },
  {
   "cell_type": "code",
   "execution_count": null,
   "id": "bf9e5433-f582-4aa7-b831-1e2184cc5665",
   "metadata": {},
   "outputs": [],
   "source": [
    "def my_func(a, b):\n",
    "  print(f\"This is Day {a} and Lab Session {b}\")\n",
    "\n",
    "my_func(1)"
   ]
  },
  {
   "cell_type": "code",
   "execution_count": null,
   "id": "81a9f128-598f-4fcb-a844-16a9cc13e84c",
   "metadata": {},
   "outputs": [],
   "source": [
    "my_func(1, 1)"
   ]
  },
  {
   "cell_type": "code",
   "execution_count": null,
   "id": "6567b5f9-40c3-4341-80a8-06389ddd11f7",
   "metadata": {},
   "outputs": [],
   "source": [
    "def my_func(a, b=1):\n",
    "  print(f\"This is Day {a} and Lab Session {b}\")\n",
    "\n",
    "my_func(1)"
   ]
  },
  {
   "cell_type": "code",
   "execution_count": null,
   "id": "30b0458f-d2b4-426d-a7aa-a01ef3d4630d",
   "metadata": {},
   "outputs": [],
   "source": [
    "def func(a, b, c, d = 0):\n",
    "  print((a+b+c)*d)\n",
    "\n",
    "func(1, 2, 3)"
   ]
  },
  {
   "cell_type": "code",
   "execution_count": null,
   "id": "5561f1d4-f0b2-4ac5-800f-c9d7190ba0f4",
   "metadata": {},
   "outputs": [],
   "source": [
    "func(1, 2, 3, 4)"
   ]
  },
  {
   "cell_type": "markdown",
   "id": "5b9564b1-93e0-4051-99f2-e006ea38aa03",
   "metadata": {},
   "source": [
    "## Mathematical Functions"
   ]
  },
  {
   "cell_type": "code",
   "execution_count": null,
   "id": "238e2f87-0b00-46db-a682-d3e1fb9faa22",
   "metadata": {},
   "outputs": [],
   "source": [
    "sqrt(4)"
   ]
  },
  {
   "cell_type": "code",
   "execution_count": null,
   "id": "c99e494f-49cf-4ab5-a26c-e3d726eba649",
   "metadata": {},
   "outputs": [],
   "source": [
    "from math import sqrt, gcd\n",
    "\n",
    "sqrt(4)"
   ]
  },
  {
   "cell_type": "code",
   "execution_count": null,
   "id": "6bcd6630-c744-4022-8537-b3befd74fcfa",
   "metadata": {},
   "outputs": [],
   "source": [
    "math.factorial(5)"
   ]
  },
  {
   "cell_type": "code",
   "execution_count": null,
   "id": "1bc7e964-d031-485c-ae04-833ec61795e8",
   "metadata": {},
   "outputs": [],
   "source": [
    "import math\n",
    "math.comb(10, 6)"
   ]
  },
  {
   "cell_type": "code",
   "execution_count": null,
   "id": "ff596c00-542c-4431-966f-4385d8b46dec",
   "metadata": {},
   "outputs": [],
   "source": [
    "gcd(6, 15, 30)"
   ]
  },
  {
   "cell_type": "markdown",
   "id": "4cd33a85-9ea2-498d-91b9-a622d53ddb12",
   "metadata": {},
   "source": [
    "## Lambda functions"
   ]
  },
  {
   "cell_type": "code",
   "execution_count": null,
   "id": "9dd9af22-ee3d-41bc-9fe4-b1bfd9ac11be",
   "metadata": {},
   "outputs": [],
   "source": [
    "def equation1(a, b):\n",
    "  return a* b\n",
    "\n",
    "equation2 = lambda a, b : a * b\n",
    "\n",
    "equation1(1, 2), equation2(1, 2)"
   ]
  },
  {
   "cell_type": "code",
   "execution_count": null,
   "id": "986eafdd-7e39-4c2c-a05b-cafdb5f75988",
   "metadata": {},
   "outputs": [],
   "source": [
    "adder = lambda f, g:  f + g\n",
    "subtractor = lambda f, g:  f - g\n",
    "divider = lambda f, g:  f / g\n",
    "multiplier = lambda f, g:  f * g\n",
    "def calculate(a, b, any_func):\n",
    "  return any_func(a, b)\n",
    "print(calculate(2, 3, adder))"
   ]
  },
  {
   "cell_type": "markdown",
   "id": "c868c744-550f-4011-bd9b-d3530d5f1269",
   "metadata": {},
   "source": [
    "# Class"
   ]
  },
  {
   "cell_type": "code",
   "execution_count": null,
   "id": "2c6d57bb-ee4c-405a-8424-f423c409a538",
   "metadata": {},
   "outputs": [],
   "source": [
    "class Rectangle:\n",
    "    def __init__(self, w, h):\n",
    "        self.widht = w\n",
    "        self.height = h\n",
    "        print(id(self))\n",
    "\n",
    "r1 = Rectangle(3, 4)\n",
    "r2 = Rectangle(30, 40)\n",
    "\n",
    "r1.widht, r2.height"
   ]
  },
  {
   "cell_type": "code",
   "execution_count": null,
   "id": "47b52c95-23e1-4de1-b008-f029350aab0e",
   "metadata": {},
   "outputs": [],
   "source": [
    "class Rectangle():\n",
    "    def __init__ (self, width, height):\n",
    "        self.width = width\n",
    "        self.height = height\n",
    "\n",
    "    def area(self):\n",
    "        return self.width * self.height\n",
    "\n",
    "    def perimeter(self):\n",
    "        return 2 *  ( self.width + self.height)"
   ]
  },
  {
   "cell_type": "code",
   "execution_count": null,
   "id": "a3b064d1-29ce-4687-b4ec-675c18f56500",
   "metadata": {},
   "outputs": [],
   "source": [
    "r1 = Rectangle(10, 20)\n",
    "r1.area()"
   ]
  },
  {
   "cell_type": "code",
   "execution_count": null,
   "id": "fbc09294-6f99-47f9-88c4-16dfc7cdc893",
   "metadata": {},
   "outputs": [],
   "source": [
    "print(r1)"
   ]
  },
  {
   "cell_type": "code",
   "execution_count": null,
   "id": "1bf101ad-af10-463b-8b55-1861f705d3fd",
   "metadata": {},
   "outputs": [],
   "source": [
    "class Rectangle:\n",
    "    def __init__ (self, width, height):\n",
    "        self.width = width\n",
    "        self.height = height\n",
    "\n",
    "    def area(self):\n",
    "        return self.width * self.height\n",
    "\n",
    "    def perimeter(self):\n",
    "        return 2 *  ( self.width + self.height)\n",
    "\n",
    "    def __str__(self):\n",
    "        return \"This is a rectangle stored at: \" + str(id(self))\n",
    "\n",
    "r1 = Rectangle(10, 20)\n",
    "print(r1)"
   ]
  },
  {
   "cell_type": "code",
   "execution_count": null,
   "id": "ebecdc20-d550-4493-90c3-bd3e318e8c67",
   "metadata": {},
   "outputs": [],
   "source": [
    "r1"
   ]
  },
  {
   "cell_type": "code",
   "execution_count": null,
   "id": "158c99aa-64ad-4324-8d57-cca5813d996d",
   "metadata": {},
   "outputs": [],
   "source": [
    "class Rectangle:\n",
    "    def __init__ (self, width, height):\n",
    "        self.width = width\n",
    "        self.height = height\n",
    "\n",
    "    def area(self):\n",
    "        return self.width * self.height\n",
    "\n",
    "    def perimeter(self):\n",
    "        return 2 *  ( self.width + self.height)\n",
    "\n",
    "    def __str__(self):\n",
    "        return \"This is a rectangle stored at: \" + str(id(self))\n",
    "\n",
    "    def __repr__(self):\n",
    "        return \"This is a rectangle stored at: \" + str(id(self))\n",
    "\n",
    "r1 = Rectangle(10, 20)\n",
    "r1"
   ]
  },
  {
   "cell_type": "code",
   "execution_count": null,
   "id": "89bf0a0d-908d-421d-bea4-6d3f02772ab7",
   "metadata": {},
   "outputs": [],
   "source": [
    "class Rectangle:\n",
    "    def __init__ (self, width, height):\n",
    "        self.width = width\n",
    "        self.height = height\n",
    "\n",
    "    def area(self):\n",
    "        return self.width * self.height\n",
    "\n",
    "    def perimeter(self):\n",
    "        return 2 *  ( self.width + self.height)\n",
    "\n",
    "    def __str__(self):\n",
    "        return \"This is a rectangle stored at: \" + str(id(self))\n",
    "\n",
    "    def __repr__(self):\n",
    "        return \"This is a rectangle stored at: \" + str(id(self))\n",
    "\n",
    "    def __eq__(self, other):\n",
    "        if isinstance(other, Rectangle):\n",
    "            return (self.width, self.height) == (other.width, other.height)\n",
    "        else:\n",
    "            return False\n",
    "\n",
    "    def __lt__(self, other):\n",
    "        if isinstance(other, Rectangle):\n",
    "            return self.area() < other.area()\n",
    "        else:\n",
    "            return False\n",
    "\n",
    "r1 = Rectangle(100, 200)\n",
    "r2 = Rectangle(10, 20)\n",
    "r1 == r2"
   ]
  },
  {
   "cell_type": "code",
   "execution_count": null,
   "id": "ac568728-f98f-45a5-8abe-f061eca2e8ff",
   "metadata": {},
   "outputs": [],
   "source": [
    "r1 < r2"
   ]
  },
  {
   "cell_type": "markdown",
   "id": "6428d55b-9b19-4b29-803b-62fb5809efec",
   "metadata": {},
   "source": [
    "# Assignments"
   ]
  },
  {
   "cell_type": "markdown",
   "id": "28de34ec-90c0-488e-9214-82930a3bdb3b",
   "metadata": {},
   "source": [
    "## Pig Latin\n",
    "\n",
    "Write a function pig latin that takes in a single word, and then converts the word to Pig Latin. Pig Latin takes the first letter of a word, puts it at the end, and appends “ay”. The only exception is if the first letter is a vowel, in which case we keep it as it is and append “hay” to the end. \n",
    "\n",
    "E.g. “boot” → “ootbay”, and “image” → “imagehay”. \n",
    "\n",
    "Hint1: It will be useful to define a list at the top of your code file called VOWELS. This way, you can check if a letter x is a vowel.  \n",
    "\n",
    "Hint2: To get a word except for the first letter, you can use word[1:]."
   ]
  },
  {
   "cell_type": "markdown",
   "id": "469842cc-bc37-4b70-a0ea-2fb389ce0937",
   "metadata": {},
   "source": [
    "## Saving the Iron Man\n",
    "### Objective:\n",
    "Our team of Avengers is fighting to keep Thanos away from the gauntlet. As per Dr. Strange, there is a Marvel character who can beat Thanos. But he can not say his name. We have to guess his name letter by letter but with every wrong guess, Thanos gets closer to the gauntlet.\n",
    "\n",
    "### Instructions:\n",
    "1. Game Setup:\n",
    "    * Create a list of Marvel characters that Dr. Strange will randomly choose from as the character who can beat Thanos (around 800 characters).\n",
    "    * Select one character randomly at the start of the game.\n",
    "\n",
    "2. Game Rules:\n",
    "    * Display the hidden character name as underscores (_) representing unguessed letters.\n",
    "    * The player guesses one letter at a time.\n",
    "    * If the guessed letter is in the character name, reveal its position(s) in the character name.\n",
    "    * If the guessed letter is not in the word, decrement the remaining attempts.\n",
    "\n",
    "3. Gameplay Requirements:\n",
    "    * Allow the player to input guesses (letters only).\n",
    "    * Maintain a record of already guessed letters and notify the player if they repeat a guess.\n",
    "    * End the game if:\n",
    "    * The player guesses the character name correctly.\n",
    "    * Thanos reaches to the gauntlet.\n",
    "\n",
    "4. Game Output:\n",
    "\n",
    "    * Display:\n",
    "        * The current state of the character name (with correctly guessed letters revealed).\n",
    "        * Distance of Thanos from the gauntlet.\n",
    "        * The list of letters already guessed.\n",
    "    * At the end, show whether we saved Iron Man or Thanos gets the gauntlet.\n",
    "\n",
    "5. Bonus Features (Optional):\n",
    "\n",
    "    * Allow the player to choose difficulty levels, which adjust the number of attempts.\n",
    "    * Add ASCII art for the Thanos at each stage of incorrect guesses.\n",
    "    * Support guessing the entire word instead of individual letters.\n",
    "    * Provide hints for the word (e.g., category or the first letter).\n",
    "\n",
    "### Submission Guidelines:\n",
    "1. Submit your Python script as a .py file.\n",
    "2. Ensure the code is well-commented and readable.\n",
    "3. Include a brief explanation of your approach in a text file or README.md or as comments in the code."
   ]
  }
 ],
 "metadata": {
  "kernelspec": {
   "display_name": "FDS",
   "language": "python",
   "name": "fds"
  },
  "language_info": {
   "codemirror_mode": {
    "name": "ipython",
    "version": 3
   },
   "file_extension": ".py",
   "mimetype": "text/x-python",
   "name": "python",
   "nbconvert_exporter": "python",
   "pygments_lexer": "ipython3",
   "version": "3.12.1"
  }
 },
 "nbformat": 4,
 "nbformat_minor": 5
}
