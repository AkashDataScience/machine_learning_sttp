{
 "cells": [
  {
   "cell_type": "markdown",
   "id": "ad484a35-b5be-4744-97c8-556e69e6d37e",
   "metadata": {},
   "source": [
    "# Built-in Data Types"
   ]
  },
  {
   "cell_type": "markdown",
   "id": "c7f1460b-d288-4bbe-bb88-545c9ffb58af",
   "metadata": {},
   "source": [
    "## String"
   ]
  },
  {
   "cell_type": "code",
   "execution_count": 1,
   "id": "830c6a61-621d-4310-90ef-008e3685b209",
   "metadata": {},
   "outputs": [
    {
     "name": "stdout",
     "output_type": "stream",
     "text": [
      "Hello world\n"
     ]
    }
   ],
   "source": [
    "print(\"Hello world\")"
   ]
  },
  {
   "cell_type": "code",
   "execution_count": 2,
   "id": "b5746500-379e-470a-a5c4-7b6d4cbd1fad",
   "metadata": {},
   "outputs": [
    {
     "ename": "SyntaxError",
     "evalue": "unterminated string literal (detected at line 1) (2676733140.py, line 1)",
     "output_type": "error",
     "traceback": [
      "\u001b[1;36m  Cell \u001b[1;32mIn[2], line 1\u001b[1;36m\u001b[0m\n\u001b[1;33m    print(\"Good\u001b[0m\n\u001b[1;37m          ^\u001b[0m\n\u001b[1;31mSyntaxError\u001b[0m\u001b[1;31m:\u001b[0m unterminated string literal (detected at line 1)\n"
     ]
    }
   ],
   "source": [
    "print(\"Good\n",
    "Morning\")"
   ]
  },
  {
   "cell_type": "code",
   "execution_count": 3,
   "id": "2a9bbe01-656b-4a7a-a1cd-283109f2e19f",
   "metadata": {},
   "outputs": [
    {
     "ename": "SyntaxError",
     "evalue": "invalid syntax. Perhaps you forgot a comma? (242012418.py, line 1)",
     "output_type": "error",
     "traceback": [
      "\u001b[1;36m  Cell \u001b[1;32mIn[3], line 1\u001b[1;36m\u001b[0m\n\u001b[1;33m    print(\"Welcome to \"Hands-on Python Programming Basics\"\")\u001b[0m\n\u001b[1;37m          ^\u001b[0m\n\u001b[1;31mSyntaxError\u001b[0m\u001b[1;31m:\u001b[0m invalid syntax. Perhaps you forgot a comma?\n"
     ]
    }
   ],
   "source": [
    "print(\"Welcome to \"Hands-on Python Programming Basics\"\")"
   ]
  },
  {
   "cell_type": "code",
   "execution_count": 4,
   "id": "d17659cc-8d99-4715-b9d1-3d4fd04cba65",
   "metadata": {},
   "outputs": [
    {
     "name": "stdout",
     "output_type": "stream",
     "text": [
      "This is one of the lines taken from Shashi Tharoors interview.\n",
      "He said, that one the democracy is hindered for its progress by the\n",
      "rightist movements and their jabs at the structure of the secularism,\n",
      "then it becomes very difficult to beat them at the democratic\n",
      "electctions becuase now people are infused with the ideas that have no\n",
      "relation to their earnings or finances, but the whims and fancies of\n",
      "what they believe to be true...\n"
     ]
    }
   ],
   "source": [
    "print(\"\"\"This is one of the lines taken from Shashi Tharoors interview.\n",
    "He said, that one the democracy is hindered for its progress by the\n",
    "rightist movements and their jabs at the structure of the secularism,\n",
    "then it becomes very difficult to beat them at the democratic\n",
    "electctions becuase now people are infused with the ideas that have no\n",
    "relation to their earnings or finances, but the whims and fancies of\n",
    "what they believe to be true...\"\"\")"
   ]
  },
  {
   "cell_type": "markdown",
   "id": "04431da1-c53e-4e44-92ea-561b9acc3cc4",
   "metadata": {},
   "source": [
    "### String Concatenation"
   ]
  },
  {
   "cell_type": "code",
   "execution_count": 5,
   "id": "7534c9e1-e1fd-4455-a721-c31cb7f64482",
   "metadata": {},
   "outputs": [
    {
     "name": "stdout",
     "output_type": "stream",
     "text": [
      "Dr. Nitesh Funde\n"
     ]
    }
   ],
   "source": [
    "prefix = 'Dr.'\n",
    "first_name = 'Nitesh'\n",
    "last_name = 'Funde'\n",
    "full_name = prefix + \" \" + first_name + \" \" + last_name\n",
    "print(full_name)"
   ]
  },
  {
   "cell_type": "markdown",
   "id": "c1cf1fe0-5490-4178-919e-4c0a49dc5be1",
   "metadata": {},
   "source": [
    "### Without Concatenation"
   ]
  },
  {
   "cell_type": "code",
   "execution_count": 6,
   "id": "00a81ef8-e843-4daf-9910-14fa5e6e7017",
   "metadata": {},
   "outputs": [
    {
     "name": "stdout",
     "output_type": "stream",
     "text": [
      "Dr. Nitesh Funde\n"
     ]
    }
   ],
   "source": [
    "full_name = f\"{prefix} {first_name} {last_name}\"\n",
    "print(full_name)"
   ]
  },
  {
   "cell_type": "code",
   "execution_count": 7,
   "id": "d3421ec7-9657-4d6e-8567-d56ea31cee7a",
   "metadata": {},
   "outputs": [
    {
     "name": "stdout",
     "output_type": "stream",
     "text": [
      "A: 100, B: 44\n"
     ]
    }
   ],
   "source": [
    "a = 10\n",
    "b = 4\n",
    "\n",
    "print(f\"A: {a*a}, B: {b + a*b}\")"
   ]
  },
  {
   "cell_type": "markdown",
   "id": "cd3babaf-ef06-429c-8eab-ccfb40f0369c",
   "metadata": {},
   "source": [
    "## List"
   ]
  },
  {
   "cell_type": "code",
   "execution_count": 8,
   "id": "fb6270cc-c44a-42e4-a9eb-23cf0275f6a6",
   "metadata": {},
   "outputs": [
    {
     "data": {
      "text/plain": [
       "[1, 'red', 'r', (3+4j), [3, 4, 'a']]"
      ]
     },
     "execution_count": 8,
     "metadata": {},
     "output_type": "execute_result"
    }
   ],
   "source": [
    "a = [1, \"red\", \"r\", 3 + 4j, [3, 4, 'a']]\n",
    "a"
   ]
  },
  {
   "cell_type": "code",
   "execution_count": 9,
   "id": "53bd89b6-2969-475b-8dc4-8634344740dd",
   "metadata": {},
   "outputs": [
    {
     "data": {
      "text/plain": [
       "[1, 'red', 'r', (3+4j), [3, 4, 'a']]"
      ]
     },
     "execution_count": 9,
     "metadata": {},
     "output_type": "execute_result"
    }
   ],
   "source": [
    "a = [1,\n",
    "     \"red\",\n",
    "     \"r\",\n",
    "     3 + 4j,\n",
    "     [3, 4, 'a']\n",
    "     ]\n",
    "a"
   ]
  },
  {
   "cell_type": "markdown",
   "id": "61c1668f-2dfa-44fd-9e4a-67b0ec52a471",
   "metadata": {},
   "source": [
    "### Indexing"
   ]
  },
  {
   "cell_type": "code",
   "execution_count": 10,
   "id": "95937b7f-dc30-4627-a935-1dd0fadfb35a",
   "metadata": {},
   "outputs": [
    {
     "data": {
      "text/plain": [
       "1"
      ]
     },
     "execution_count": 10,
     "metadata": {},
     "output_type": "execute_result"
    }
   ],
   "source": [
    "a[0]"
   ]
  },
  {
   "cell_type": "markdown",
   "id": "b28f1898-1f2a-4a97-a303-e7b9041f78c0",
   "metadata": {},
   "source": [
    "### Slicing"
   ]
  },
  {
   "cell_type": "code",
   "execution_count": 11,
   "id": "77b8b37a-673d-4dde-8227-089c68d53159",
   "metadata": {},
   "outputs": [
    {
     "data": {
      "text/plain": [
       "['red', 'r']"
      ]
     },
     "execution_count": 11,
     "metadata": {},
     "output_type": "execute_result"
    }
   ],
   "source": [
    "a[1:3]"
   ]
  },
  {
   "cell_type": "markdown",
   "id": "50e18f1f-a47f-48a3-804f-d3d6bdc20f70",
   "metadata": {},
   "source": [
    "### Mutation"
   ]
  },
  {
   "cell_type": "code",
   "execution_count": 12,
   "id": "82c3c981-21d1-4523-9ad3-f44985a16ca9",
   "metadata": {},
   "outputs": [],
   "source": [
    "a[0] = 1"
   ]
  },
  {
   "cell_type": "markdown",
   "id": "c9bfe07d-23ee-467c-9674-17f7d2cce8ae",
   "metadata": {},
   "source": [
    "## Tuple"
   ]
  },
  {
   "cell_type": "code",
   "execution_count": 13,
   "id": "fccab4c4-8efa-4e8c-ba12-b4f472658a8b",
   "metadata": {},
   "outputs": [
    {
     "data": {
      "text/plain": [
       "(1, 'Akash', 3.4, (4+5j))"
      ]
     },
     "execution_count": 13,
     "metadata": {},
     "output_type": "execute_result"
    }
   ],
   "source": [
    "t = (1, \"Akash\", 3.4, 4 + 5j)\n",
    "t"
   ]
  },
  {
   "cell_type": "markdown",
   "id": "10fdee61-e8e1-4690-b812-e2a1d4735b3c",
   "metadata": {},
   "source": [
    "### Indexing"
   ]
  },
  {
   "cell_type": "code",
   "execution_count": 14,
   "id": "57c2e79a-e309-4a9c-b4ba-28291a72c6d9",
   "metadata": {},
   "outputs": [
    {
     "data": {
      "text/plain": [
       "1"
      ]
     },
     "execution_count": 14,
     "metadata": {},
     "output_type": "execute_result"
    }
   ],
   "source": [
    "t[0]"
   ]
  },
  {
   "cell_type": "markdown",
   "id": "81ed1aee-9b83-41da-b360-09df4dfa3a94",
   "metadata": {},
   "source": [
    "### Slicing"
   ]
  },
  {
   "cell_type": "code",
   "execution_count": 15,
   "id": "934a7bb2-b990-42a6-904b-9f601a3b01d2",
   "metadata": {},
   "outputs": [
    {
     "data": {
      "text/plain": [
       "('Akash', 3.4)"
      ]
     },
     "execution_count": 15,
     "metadata": {},
     "output_type": "execute_result"
    }
   ],
   "source": [
    "t[1:3]"
   ]
  },
  {
   "cell_type": "markdown",
   "id": "919722f9-ab4c-4a7b-b373-f8ce8d65edef",
   "metadata": {},
   "source": [
    "### Mutation???"
   ]
  },
  {
   "cell_type": "code",
   "execution_count": 16,
   "id": "d8f4b220-554f-4e62-871f-4df36c3f499e",
   "metadata": {},
   "outputs": [
    {
     "ename": "TypeError",
     "evalue": "'tuple' object does not support item assignment",
     "output_type": "error",
     "traceback": [
      "\u001b[1;31m---------------------------------------------------------------------------\u001b[0m",
      "\u001b[1;31mTypeError\u001b[0m                                 Traceback (most recent call last)",
      "Cell \u001b[1;32mIn[16], line 1\u001b[0m\n\u001b[1;32m----> 1\u001b[0m \u001b[43mt\u001b[49m\u001b[43m[\u001b[49m\u001b[38;5;241;43m0\u001b[39;49m\u001b[43m]\u001b[49m \u001b[38;5;241m=\u001b[39m \u001b[38;5;241m1\u001b[39m\n",
      "\u001b[1;31mTypeError\u001b[0m: 'tuple' object does not support item assignment"
     ]
    }
   ],
   "source": [
    "t[0] = 1"
   ]
  },
  {
   "cell_type": "markdown",
   "id": "9091e755-9d0d-4870-97fe-19bccae71bb0",
   "metadata": {},
   "source": [
    "## Set"
   ]
  },
  {
   "cell_type": "code",
   "execution_count": 17,
   "id": "6de10b83-1885-49e0-8046-e4b6ba6e893b",
   "metadata": {},
   "outputs": [
    {
     "data": {
      "text/plain": [
       "{(4+5j), 1, 3.4, 'Akash'}"
      ]
     },
     "execution_count": 17,
     "metadata": {},
     "output_type": "execute_result"
    }
   ],
   "source": [
    "s = {1, 1, \"Akash\", 3.4, 4 + 5j}\n",
    "s"
   ]
  },
  {
   "cell_type": "markdown",
   "id": "66018791-8ca4-4ddb-8178-4c6fdd14f385",
   "metadata": {},
   "source": [
    "### Indexing???"
   ]
  },
  {
   "cell_type": "code",
   "execution_count": 18,
   "id": "88acb922-7ae7-4dce-a0c2-fa0a95eb882f",
   "metadata": {},
   "outputs": [
    {
     "ename": "TypeError",
     "evalue": "'set' object is not subscriptable",
     "output_type": "error",
     "traceback": [
      "\u001b[1;31m---------------------------------------------------------------------------\u001b[0m",
      "\u001b[1;31mTypeError\u001b[0m                                 Traceback (most recent call last)",
      "Cell \u001b[1;32mIn[18], line 1\u001b[0m\n\u001b[1;32m----> 1\u001b[0m \u001b[43ms\u001b[49m\u001b[43m[\u001b[49m\u001b[38;5;241;43m0\u001b[39;49m\u001b[43m]\u001b[49m\n",
      "\u001b[1;31mTypeError\u001b[0m: 'set' object is not subscriptable"
     ]
    }
   ],
   "source": [
    "s[0]"
   ]
  },
  {
   "cell_type": "markdown",
   "id": "e6d956fb-d871-46ba-a890-0a90d786254f",
   "metadata": {},
   "source": [
    "### Slicing???"
   ]
  },
  {
   "cell_type": "code",
   "execution_count": 19,
   "id": "58aa4026-3955-4db1-987e-5d0ed2e4469c",
   "metadata": {},
   "outputs": [
    {
     "ename": "TypeError",
     "evalue": "'set' object is not subscriptable",
     "output_type": "error",
     "traceback": [
      "\u001b[1;31m---------------------------------------------------------------------------\u001b[0m",
      "\u001b[1;31mTypeError\u001b[0m                                 Traceback (most recent call last)",
      "Cell \u001b[1;32mIn[19], line 1\u001b[0m\n\u001b[1;32m----> 1\u001b[0m \u001b[43ms\u001b[49m\u001b[43m[\u001b[49m\u001b[38;5;241;43m1\u001b[39;49m\u001b[43m:\u001b[49m\u001b[38;5;241;43m3\u001b[39;49m\u001b[43m]\u001b[49m\n",
      "\u001b[1;31mTypeError\u001b[0m: 'set' object is not subscriptable"
     ]
    }
   ],
   "source": [
    "s[1:3]"
   ]
  },
  {
   "cell_type": "markdown",
   "id": "e05708d0-1d35-4e90-9efd-27125b56239f",
   "metadata": {},
   "source": [
    "### Mutation???"
   ]
  },
  {
   "cell_type": "code",
   "execution_count": 20,
   "id": "121100c0-331d-4cc1-baec-43ef290d0c96",
   "metadata": {},
   "outputs": [
    {
     "ename": "TypeError",
     "evalue": "'set' object does not support item assignment",
     "output_type": "error",
     "traceback": [
      "\u001b[1;31m---------------------------------------------------------------------------\u001b[0m",
      "\u001b[1;31mTypeError\u001b[0m                                 Traceback (most recent call last)",
      "Cell \u001b[1;32mIn[20], line 1\u001b[0m\n\u001b[1;32m----> 1\u001b[0m \u001b[43ms\u001b[49m\u001b[43m[\u001b[49m\u001b[38;5;241;43m0\u001b[39;49m\u001b[43m]\u001b[49m \u001b[38;5;241m=\u001b[39m \u001b[38;5;241m1\u001b[39m\n",
      "\u001b[1;31mTypeError\u001b[0m: 'set' object does not support item assignment"
     ]
    }
   ],
   "source": [
    "s[0] = 1"
   ]
  },
  {
   "cell_type": "markdown",
   "id": "61d784e5-3455-41e0-a435-326f0c85336a",
   "metadata": {},
   "source": [
    "## Dictionary"
   ]
  },
  {
   "cell_type": "code",
   "execution_count": 21,
   "id": "0e6df1b4-49eb-493c-b2ab-42107d6b3599",
   "metadata": {},
   "outputs": [
    {
     "data": {
      "text/plain": [
       "{'key1': 1, 3: 'Akash', 4: 3.4, 'key2': (4+5j)}"
      ]
     },
     "execution_count": 21,
     "metadata": {},
     "output_type": "execute_result"
    }
   ],
   "source": [
    "d = {\"key1\": 1, 3: \"Akash\", 4: 3.4, \"key2\": 4 + 5j}\n",
    "d"
   ]
  },
  {
   "cell_type": "markdown",
   "id": "ef07cd28-e84c-4f57-8389-b053fecdd041",
   "metadata": {},
   "source": [
    "### Indexing"
   ]
  },
  {
   "cell_type": "code",
   "execution_count": 22,
   "id": "9cd7889d-2d2b-4957-b66b-fba55c9b2f00",
   "metadata": {},
   "outputs": [
    {
     "data": {
      "text/plain": [
       "1"
      ]
     },
     "execution_count": 22,
     "metadata": {},
     "output_type": "execute_result"
    }
   ],
   "source": [
    "d[\"key1\"]"
   ]
  },
  {
   "cell_type": "code",
   "execution_count": 23,
   "id": "716bb4d9-82e7-44bd-b544-3e123d17db12",
   "metadata": {},
   "outputs": [
    {
     "data": {
      "text/plain": [
       "'Akash'"
      ]
     },
     "execution_count": 23,
     "metadata": {},
     "output_type": "execute_result"
    }
   ],
   "source": [
    "d[3]"
   ]
  },
  {
   "cell_type": "markdown",
   "id": "ea5cd9fc-7cd2-4bed-b0e6-39ed59c12180",
   "metadata": {},
   "source": [
    "### Mutation???"
   ]
  },
  {
   "cell_type": "code",
   "execution_count": 24,
   "id": "5455db31-c1e0-4f49-a008-d59bdbe4d23a",
   "metadata": {},
   "outputs": [
    {
     "data": {
      "text/plain": [
       "{'key1': 1, 3: 'Akash', 4: 4, 'key2': (4+5j)}"
      ]
     },
     "execution_count": 24,
     "metadata": {},
     "output_type": "execute_result"
    }
   ],
   "source": [
    "d[4] = 4\n",
    "d"
   ]
  },
  {
   "cell_type": "code",
   "execution_count": 25,
   "id": "8f554e9d-d5ed-4ef6-96fa-361e030449ce",
   "metadata": {},
   "outputs": [
    {
     "data": {
      "text/plain": [
       "{'key1': 1, 3: 'Akash', 4: 4, 'key2': (5+7j)}"
      ]
     },
     "execution_count": 25,
     "metadata": {},
     "output_type": "execute_result"
    }
   ],
   "source": [
    "d[\"key2\"] = d[\"key2\"] + 1 + 2j\n",
    "d"
   ]
  },
  {
   "cell_type": "markdown",
   "id": "1c77890a-66b3-454b-a4bc-dc7f3f39277a",
   "metadata": {},
   "source": [
    "# Functions"
   ]
  },
  {
   "cell_type": "code",
   "execution_count": 26,
   "id": "9d9e6b59-919f-4770-bbb5-2c625e9df9af",
   "metadata": {},
   "outputs": [
    {
     "name": "stdout",
     "output_type": "stream",
     "text": [
      "This is our first fuinction\n"
     ]
    }
   ],
   "source": [
    "def my_func():\n",
    "  print(\"This is our first fuinction\")\n",
    "\n",
    "my_func()"
   ]
  },
  {
   "cell_type": "code",
   "execution_count": 27,
   "id": "31c476eb-9f17-4b9d-ad8b-f7375cb77e06",
   "metadata": {},
   "outputs": [
    {
     "data": {
      "text/plain": [
       "<function __main__.my_func()>"
      ]
     },
     "execution_count": 27,
     "metadata": {},
     "output_type": "execute_result"
    }
   ],
   "source": [
    "my_func"
   ]
  },
  {
   "cell_type": "code",
   "execution_count": 28,
   "id": "08662bc3-6a70-490d-801d-aa3012235d61",
   "metadata": {},
   "outputs": [
    {
     "data": {
      "text/plain": [
       "<function print(*args, sep=' ', end='\\n', file=None, flush=False)>"
      ]
     },
     "execution_count": 28,
     "metadata": {},
     "output_type": "execute_result"
    }
   ],
   "source": [
    "print"
   ]
  },
  {
   "cell_type": "code",
   "execution_count": 29,
   "id": "0915dd36-471b-4e9b-bbe2-30c49d7103f3",
   "metadata": {},
   "outputs": [
    {
     "data": {
      "text/plain": [
       "5"
      ]
     },
     "execution_count": 29,
     "metadata": {},
     "output_type": "execute_result"
    }
   ],
   "source": [
    "def my_func(a, b):\n",
    "  c = a + b\n",
    "  return c\n",
    "my_func(1, 4)"
   ]
  },
  {
   "cell_type": "code",
   "execution_count": 30,
   "id": "4cf283f1-f61a-44f4-a82e-2fa4cfdf3c05",
   "metadata": {},
   "outputs": [
    {
     "ename": "TypeError",
     "evalue": "unsupported operand type(s) for +: 'float' and 'str'",
     "output_type": "error",
     "traceback": [
      "\u001b[1;31m---------------------------------------------------------------------------\u001b[0m",
      "\u001b[1;31mTypeError\u001b[0m                                 Traceback (most recent call last)",
      "Cell \u001b[1;32mIn[30], line 1\u001b[0m\n\u001b[1;32m----> 1\u001b[0m \u001b[43mmy_func\u001b[49m\u001b[43m(\u001b[49m\u001b[38;5;241;43m1.5\u001b[39;49m\u001b[43m,\u001b[49m\u001b[43m \u001b[49m\u001b[38;5;124;43m'\u001b[39;49m\u001b[38;5;124;43m4\u001b[39;49m\u001b[38;5;124;43m'\u001b[39;49m\u001b[43m)\u001b[49m\n",
      "Cell \u001b[1;32mIn[29], line 2\u001b[0m, in \u001b[0;36mmy_func\u001b[1;34m(a, b)\u001b[0m\n\u001b[0;32m      1\u001b[0m \u001b[38;5;28;01mdef\u001b[39;00m \u001b[38;5;21mmy_func\u001b[39m(a, b):\n\u001b[1;32m----> 2\u001b[0m   c \u001b[38;5;241m=\u001b[39m \u001b[43ma\u001b[49m\u001b[43m \u001b[49m\u001b[38;5;241;43m+\u001b[39;49m\u001b[43m \u001b[49m\u001b[43mb\u001b[49m\n\u001b[0;32m      3\u001b[0m   \u001b[38;5;28;01mreturn\u001b[39;00m c\n",
      "\u001b[1;31mTypeError\u001b[0m: unsupported operand type(s) for +: 'float' and 'str'"
     ]
    }
   ],
   "source": [
    "my_func(1.5, '4')"
   ]
  },
  {
   "cell_type": "code",
   "execution_count": 31,
   "id": "2c8bf8b5-781a-40ad-84be-9ee670a41276",
   "metadata": {},
   "outputs": [
    {
     "data": {
      "text/plain": [
       "'**'"
      ]
     },
     "execution_count": 31,
     "metadata": {},
     "output_type": "execute_result"
    }
   ],
   "source": [
    "def my_func(a, b):\n",
    "  c = a * b\n",
    "  return c\n",
    "my_func(2, \"*\")"
   ]
  },
  {
   "cell_type": "code",
   "execution_count": 32,
   "id": "cfa5bb39-b24a-42e7-aab4-2c5a2fdb4683",
   "metadata": {},
   "outputs": [
    {
     "ename": "NameError",
     "evalue": "name 'c' is not defined",
     "output_type": "error",
     "traceback": [
      "\u001b[1;31m---------------------------------------------------------------------------\u001b[0m",
      "\u001b[1;31mNameError\u001b[0m                                 Traceback (most recent call last)",
      "Cell \u001b[1;32mIn[32], line 1\u001b[0m\n\u001b[1;32m----> 1\u001b[0m \u001b[43mc\u001b[49m\n",
      "\u001b[1;31mNameError\u001b[0m: name 'c' is not defined"
     ]
    }
   ],
   "source": [
    "c"
   ]
  },
  {
   "cell_type": "code",
   "execution_count": 33,
   "id": "f3be1167-7078-475e-98a1-ae05c6ade665",
   "metadata": {},
   "outputs": [
    {
     "name": "stdout",
     "output_type": "stream",
     "text": [
      "*\n",
      "**\n",
      "***\n",
      "****\n",
      "*****\n"
     ]
    }
   ],
   "source": [
    "for i in range(1,6):\n",
    "    print('*'*i)"
   ]
  },
  {
   "cell_type": "markdown",
   "id": "50627fea-406d-4cfb-b2bc-bf2bf0ec801c",
   "metadata": {},
   "source": [
    "## Arguments"
   ]
  },
  {
   "cell_type": "code",
   "execution_count": 34,
   "id": "bf9e5433-f582-4aa7-b831-1e2184cc5665",
   "metadata": {},
   "outputs": [
    {
     "ename": "TypeError",
     "evalue": "my_func() missing 1 required positional argument: 'b'",
     "output_type": "error",
     "traceback": [
      "\u001b[1;31m---------------------------------------------------------------------------\u001b[0m",
      "\u001b[1;31mTypeError\u001b[0m                                 Traceback (most recent call last)",
      "Cell \u001b[1;32mIn[34], line 4\u001b[0m\n\u001b[0;32m      1\u001b[0m \u001b[38;5;28;01mdef\u001b[39;00m \u001b[38;5;21mmy_func\u001b[39m(a, b):\n\u001b[0;32m      2\u001b[0m   \u001b[38;5;28mprint\u001b[39m(\u001b[38;5;124mf\u001b[39m\u001b[38;5;124m\"\u001b[39m\u001b[38;5;124mThis is Day \u001b[39m\u001b[38;5;132;01m{\u001b[39;00ma\u001b[38;5;132;01m}\u001b[39;00m\u001b[38;5;124m and Lab Session \u001b[39m\u001b[38;5;132;01m{\u001b[39;00mb\u001b[38;5;132;01m}\u001b[39;00m\u001b[38;5;124m\"\u001b[39m)\n\u001b[1;32m----> 4\u001b[0m \u001b[43mmy_func\u001b[49m\u001b[43m(\u001b[49m\u001b[38;5;241;43m1\u001b[39;49m\u001b[43m)\u001b[49m\n",
      "\u001b[1;31mTypeError\u001b[0m: my_func() missing 1 required positional argument: 'b'"
     ]
    }
   ],
   "source": [
    "def my_func(a, b):\n",
    "  print(f\"This is Day {a} and Lab Session {b}\")\n",
    "\n",
    "my_func(1)"
   ]
  },
  {
   "cell_type": "code",
   "execution_count": 35,
   "id": "81a9f128-598f-4fcb-a844-16a9cc13e84c",
   "metadata": {},
   "outputs": [
    {
     "name": "stdout",
     "output_type": "stream",
     "text": [
      "This is Day 1 and Lab Session 1\n"
     ]
    }
   ],
   "source": [
    "my_func(1, 1)"
   ]
  },
  {
   "cell_type": "code",
   "execution_count": 36,
   "id": "6567b5f9-40c3-4341-80a8-06389ddd11f7",
   "metadata": {},
   "outputs": [
    {
     "name": "stdout",
     "output_type": "stream",
     "text": [
      "This is Day 1 and Lab Session 1\n"
     ]
    }
   ],
   "source": [
    "def my_func(a, b=1):\n",
    "  print(f\"This is Day {a} and Lab Session {b}\")\n",
    "\n",
    "my_func(1)"
   ]
  },
  {
   "cell_type": "code",
   "execution_count": 37,
   "id": "30b0458f-d2b4-426d-a7aa-a01ef3d4630d",
   "metadata": {},
   "outputs": [
    {
     "name": "stdout",
     "output_type": "stream",
     "text": [
      "0\n"
     ]
    }
   ],
   "source": [
    "def func(a, b, c, d = 0):\n",
    "  print((a+b+c)*d)\n",
    "\n",
    "func(1, 2, 3)"
   ]
  },
  {
   "cell_type": "code",
   "execution_count": 38,
   "id": "5561f1d4-f0b2-4ac5-800f-c9d7190ba0f4",
   "metadata": {},
   "outputs": [
    {
     "name": "stdout",
     "output_type": "stream",
     "text": [
      "24\n"
     ]
    }
   ],
   "source": [
    "func(1, 2, 3, 4)"
   ]
  },
  {
   "cell_type": "markdown",
   "id": "5b9564b1-93e0-4051-99f2-e006ea38aa03",
   "metadata": {},
   "source": [
    "## Mathematical Functions"
   ]
  },
  {
   "cell_type": "code",
   "execution_count": 39,
   "id": "238e2f87-0b00-46db-a682-d3e1fb9faa22",
   "metadata": {},
   "outputs": [
    {
     "ename": "NameError",
     "evalue": "name 'sqrt' is not defined",
     "output_type": "error",
     "traceback": [
      "\u001b[1;31m---------------------------------------------------------------------------\u001b[0m",
      "\u001b[1;31mNameError\u001b[0m                                 Traceback (most recent call last)",
      "Cell \u001b[1;32mIn[39], line 1\u001b[0m\n\u001b[1;32m----> 1\u001b[0m \u001b[43msqrt\u001b[49m(\u001b[38;5;241m4\u001b[39m)\n",
      "\u001b[1;31mNameError\u001b[0m: name 'sqrt' is not defined"
     ]
    }
   ],
   "source": [
    "sqrt(4)"
   ]
  },
  {
   "cell_type": "code",
   "execution_count": 40,
   "id": "c99e494f-49cf-4ab5-a26c-e3d726eba649",
   "metadata": {},
   "outputs": [
    {
     "data": {
      "text/plain": [
       "2.0"
      ]
     },
     "execution_count": 40,
     "metadata": {},
     "output_type": "execute_result"
    }
   ],
   "source": [
    "from math import sqrt, gcd\n",
    "\n",
    "sqrt(4)"
   ]
  },
  {
   "cell_type": "code",
   "execution_count": 41,
   "id": "6bcd6630-c744-4022-8537-b3befd74fcfa",
   "metadata": {},
   "outputs": [
    {
     "ename": "NameError",
     "evalue": "name 'math' is not defined",
     "output_type": "error",
     "traceback": [
      "\u001b[1;31m---------------------------------------------------------------------------\u001b[0m",
      "\u001b[1;31mNameError\u001b[0m                                 Traceback (most recent call last)",
      "Cell \u001b[1;32mIn[41], line 1\u001b[0m\n\u001b[1;32m----> 1\u001b[0m \u001b[43mmath\u001b[49m\u001b[38;5;241m.\u001b[39mfactorial(\u001b[38;5;241m5\u001b[39m)\n",
      "\u001b[1;31mNameError\u001b[0m: name 'math' is not defined"
     ]
    }
   ],
   "source": [
    "math.factorial(5)"
   ]
  },
  {
   "cell_type": "code",
   "execution_count": 42,
   "id": "1bc7e964-d031-485c-ae04-833ec61795e8",
   "metadata": {},
   "outputs": [
    {
     "data": {
      "text/plain": [
       "210"
      ]
     },
     "execution_count": 42,
     "metadata": {},
     "output_type": "execute_result"
    }
   ],
   "source": [
    "import math\n",
    "math.comb(10, 6)"
   ]
  },
  {
   "cell_type": "code",
   "execution_count": 43,
   "id": "ff596c00-542c-4431-966f-4385d8b46dec",
   "metadata": {},
   "outputs": [
    {
     "data": {
      "text/plain": [
       "3"
      ]
     },
     "execution_count": 43,
     "metadata": {},
     "output_type": "execute_result"
    }
   ],
   "source": [
    "gcd(6, 15, 30)"
   ]
  },
  {
   "cell_type": "markdown",
   "id": "4cd33a85-9ea2-498d-91b9-a622d53ddb12",
   "metadata": {},
   "source": [
    "## Lambda functions"
   ]
  },
  {
   "cell_type": "code",
   "execution_count": 49,
   "id": "9dd9af22-ee3d-41bc-9fe4-b1bfd9ac11be",
   "metadata": {},
   "outputs": [
    {
     "data": {
      "text/plain": [
       "(2, 2)"
      ]
     },
     "execution_count": 49,
     "metadata": {},
     "output_type": "execute_result"
    }
   ],
   "source": [
    "def equation1(a, b):\n",
    "  return a* b\n",
    "\n",
    "equation2 = lambda a, b : a * b\n",
    "\n",
    "equation1(1, 2), equation2(1, 2)"
   ]
  },
  {
   "cell_type": "code",
   "execution_count": 50,
   "id": "986eafdd-7e39-4c2c-a05b-cafdb5f75988",
   "metadata": {},
   "outputs": [
    {
     "name": "stdout",
     "output_type": "stream",
     "text": [
      "5\n"
     ]
    }
   ],
   "source": [
    "adder = lambda f, g:  f + g\n",
    "subtractor = lambda f, g:  f - g\n",
    "divider = lambda f, g:  f / g\n",
    "multiplier = lambda f, g:  f * g\n",
    "def calculate(a, b, any_func):\n",
    "  return any_func(a, b)\n",
    "print(calculate(2, 3, adder))"
   ]
  },
  {
   "cell_type": "markdown",
   "id": "d1226cb3-13e7-4d36-bb03-915c988f7b89",
   "metadata": {},
   "source": [
    "# Conditions"
   ]
  },
  {
   "cell_type": "code",
   "execution_count": 44,
   "id": "5374a352-f85c-4087-9f87-149536917134",
   "metadata": {},
   "outputs": [
    {
     "name": "stdout",
     "output_type": "stream",
     "text": [
      "Yes 10 28\n"
     ]
    }
   ],
   "source": [
    "a = 10\n",
    "b = -2\n",
    "c = 30\n",
    "\n",
    "if a > 5 and b < 0 or c > 100:\n",
    "    print(f\"Yes {a} {c + b}\")"
   ]
  },
  {
   "cell_type": "code",
   "execution_count": 45,
   "id": "f00b64bc-e94c-4353-8e0b-1e9021c52079",
   "metadata": {},
   "outputs": [
    {
     "ename": "SyntaxError",
     "evalue": "expected ':' (685063009.py, line 1)",
     "output_type": "error",
     "traceback": [
      "\u001b[1;36m  Cell \u001b[1;32mIn[45], line 1\u001b[1;36m\u001b[0m\n\u001b[1;33m    if a > 5\u001b[0m\n\u001b[1;37m             ^\u001b[0m\n\u001b[1;31mSyntaxError\u001b[0m\u001b[1;31m:\u001b[0m expected ':'\n"
     ]
    }
   ],
   "source": [
    "if a > 5 \n",
    "  and b < 0 \n",
    "  or c > 100:\n",
    "  print(f\"Yes {a} {c + b}\")"
   ]
  },
  {
   "cell_type": "code",
   "execution_count": 46,
   "id": "dfe3a57e-8b09-4c7b-a88b-4587b6096bf0",
   "metadata": {},
   "outputs": [
    {
     "name": "stdout",
     "output_type": "stream",
     "text": [
      "a>3\n"
     ]
    }
   ],
   "source": [
    "a = 4\n",
    "if a < 3:\n",
    "  print(\"a<3\")\n",
    "else:\n",
    "  print(\"a>3\")"
   ]
  },
  {
   "cell_type": "code",
   "execution_count": 47,
   "id": "884d64ae-a66b-469b-9ece-e3672e845d86",
   "metadata": {},
   "outputs": [
    {
     "name": "stdout",
     "output_type": "stream",
     "text": [
      "a is more than 10\n"
     ]
    }
   ],
   "source": [
    "a = 15\n",
    "\n",
    "if a < 5:\n",
    "  print(\"a is less than 5\")\n",
    "elif a < 10:\n",
    "  print(\"a is more than 5 but less than 10\")\n",
    "else:\n",
    "  print(\"a is more than 10\")"
   ]
  },
  {
   "cell_type": "markdown",
   "id": "80fc6ccb-c408-4ef7-bca4-4959fac3ade3",
   "metadata": {},
   "source": [
    "## One liner"
   ]
  },
  {
   "cell_type": "code",
   "execution_count": 48,
   "id": "a6e77556-d331-425a-839d-d5558e2a4dee",
   "metadata": {},
   "outputs": [
    {
     "name": "stdout",
     "output_type": "stream",
     "text": [
      "Goodbye\n"
     ]
    }
   ],
   "source": [
    "def say_hello():\n",
    "  print(\"Hello\")\n",
    "\n",
    "def say_goodbye():\n",
    "  print(\"Goodbye\")\n",
    "\n",
    "time = 6\n",
    "\n",
    "say_hello() if time < 5 else say_goodbye()"
   ]
  },
  {
   "cell_type": "markdown",
   "id": "edbb3be0-3b83-489c-af67-964fb326b158",
   "metadata": {},
   "source": [
    "# Variable location"
   ]
  },
  {
   "cell_type": "code",
   "execution_count": 51,
   "id": "be5b3e1c-8bd1-4882-95d7-9e03a4c94f1f",
   "metadata": {},
   "outputs": [],
   "source": [
    "cc = \"organge\"\n",
    "dd = \"organge\"\n",
    "ee = \"organge\""
   ]
  },
  {
   "cell_type": "code",
   "execution_count": 52,
   "id": "5d82cbaf-010b-42a2-bb7e-0ed195b4a1af",
   "metadata": {},
   "outputs": [
    {
     "data": {
      "text/plain": [
       "(1768366670256, 1768366670256, 1768366670256)"
      ]
     },
     "execution_count": 52,
     "metadata": {},
     "output_type": "execute_result"
    }
   ],
   "source": [
    "id(cc), id(dd), id(ee)"
   ]
  },
  {
   "cell_type": "code",
   "execution_count": 53,
   "id": "41801a81-3fb1-4446-9404-a9580c731d38",
   "metadata": {},
   "outputs": [
    {
     "data": {
      "text/plain": [
       "140735478643128"
      ]
     },
     "execution_count": 53,
     "metadata": {},
     "output_type": "execute_result"
    }
   ],
   "source": [
    "id(1)"
   ]
  },
  {
   "cell_type": "code",
   "execution_count": 54,
   "id": "9f1d7c88-8d96-4fb9-aec8-639aabaa8491",
   "metadata": {},
   "outputs": [
    {
     "data": {
      "text/plain": [
       "140735478643128"
      ]
     },
     "execution_count": 54,
     "metadata": {},
     "output_type": "execute_result"
    }
   ],
   "source": [
    "g = 1\n",
    "id(g)"
   ]
  },
  {
   "cell_type": "code",
   "execution_count": 55,
   "id": "db7f7a94-5752-4eab-916c-4ad17323a65c",
   "metadata": {},
   "outputs": [],
   "source": [
    "del cc, dd, ee"
   ]
  },
  {
   "cell_type": "code",
   "execution_count": 56,
   "id": "aedeafd5-b42d-499e-b6ed-5b66edc4632c",
   "metadata": {},
   "outputs": [
    {
     "ename": "NameError",
     "evalue": "name 'cc' is not defined",
     "output_type": "error",
     "traceback": [
      "\u001b[1;31m---------------------------------------------------------------------------\u001b[0m",
      "\u001b[1;31mNameError\u001b[0m                                 Traceback (most recent call last)",
      "Cell \u001b[1;32mIn[56], line 1\u001b[0m\n\u001b[1;32m----> 1\u001b[0m \u001b[43mcc\u001b[49m\n",
      "\u001b[1;31mNameError\u001b[0m: name 'cc' is not defined"
     ]
    }
   ],
   "source": [
    "cc"
   ]
  },
  {
   "cell_type": "code",
   "execution_count": 57,
   "id": "65ad7dd8-bb14-45d8-8591-463d7721be27",
   "metadata": {},
   "outputs": [
    {
     "data": {
      "text/plain": [
       "1768366670256"
      ]
     },
     "execution_count": 57,
     "metadata": {},
     "output_type": "execute_result"
    }
   ],
   "source": [
    "kk = \"organge\"\n",
    "id(kk)"
   ]
  },
  {
   "cell_type": "code",
   "execution_count": 58,
   "id": "632225bd-6324-4426-b961-4f535534d7cf",
   "metadata": {},
   "outputs": [
    {
     "name": "stdout",
     "output_type": "stream",
     "text": [
      "140735478647800\n",
      "140735478647800\n"
     ]
    }
   ],
   "source": [
    "p = 147\n",
    "print(id(p))\n",
    "del p\n",
    "u = 147\n",
    "print(id(u))"
   ]
  },
  {
   "cell_type": "markdown",
   "id": "adc08f95-0e89-4563-b76e-40b140416bdc",
   "metadata": {},
   "source": [
    "# While loops"
   ]
  },
  {
   "cell_type": "code",
   "execution_count": 59,
   "id": "aa09791f-471c-4266-a4d7-701e4ce932ab",
   "metadata": {},
   "outputs": [
    {
     "name": "stdout",
     "output_type": "stream",
     "text": [
      "0\n",
      "1\n",
      "2\n",
      "3\n",
      "4\n"
     ]
    }
   ],
   "source": [
    "i = 0\n",
    "\n",
    "while i < 5:\n",
    "  print(i)\n",
    "  i = i + 1"
   ]
  },
  {
   "cell_type": "code",
   "execution_count": 60,
   "id": "0c0e4fc6-c1d5-4fd8-8ae0-ed0c7f6b6654",
   "metadata": {},
   "outputs": [
    {
     "name": "stdout",
     "output_type": "stream",
     "text": [
      "something\n"
     ]
    }
   ],
   "source": [
    "while True:\n",
    "  print(\"something\")\n",
    "  break"
   ]
  },
  {
   "cell_type": "markdown",
   "id": "6d37993f-6eb1-466f-a2e0-09f212d96559",
   "metadata": {},
   "source": [
    "# For loops"
   ]
  },
  {
   "cell_type": "code",
   "execution_count": 61,
   "id": "d9297f9c-4df7-4859-9a72-7a772acaf7e0",
   "metadata": {},
   "outputs": [
    {
     "data": {
      "text/plain": [
       "range(0, 10)"
      ]
     },
     "execution_count": 61,
     "metadata": {},
     "output_type": "execute_result"
    }
   ],
   "source": [
    "range(10)"
   ]
  },
  {
   "cell_type": "code",
   "execution_count": 62,
   "id": "ad799572-d8f1-46fc-a8b9-847a8bd447c7",
   "metadata": {},
   "outputs": [
    {
     "name": "stdout",
     "output_type": "stream",
     "text": [
      "1\n",
      "2\n",
      "3\n",
      "4\n",
      "8\n",
      "red\n"
     ]
    }
   ],
   "source": [
    "l = [1, 2, 3, 4, 8, \"red\"]\n",
    "t = (\"red\", \"green\", \"blue\", 45)\n",
    "r = range(10)\n",
    "\n",
    "for x in l:\n",
    "  print(x)"
   ]
  },
  {
   "cell_type": "code",
   "execution_count": 63,
   "id": "01a14c97-fc87-4bd2-b0ff-39c17821dfed",
   "metadata": {},
   "outputs": [
    {
     "name": "stdout",
     "output_type": "stream",
     "text": [
      "red\n",
      "green\n",
      "blue\n",
      "45\n"
     ]
    }
   ],
   "source": [
    "for x in t:\n",
    "  print(x)"
   ]
  },
  {
   "cell_type": "code",
   "execution_count": 64,
   "id": "aae775d1-ac61-46de-954d-82ad8b47af70",
   "metadata": {},
   "outputs": [
    {
     "name": "stdout",
     "output_type": "stream",
     "text": [
      "0\n",
      "1\n",
      "2\n",
      "3\n",
      "4\n",
      "5\n",
      "6\n",
      "7\n",
      "8\n",
      "9\n"
     ]
    }
   ],
   "source": [
    "for x in r:\n",
    "  print(x)"
   ]
  },
  {
   "cell_type": "code",
   "execution_count": 65,
   "id": "abb00a0c-dbee-4525-ad42-1141557b541d",
   "metadata": {},
   "outputs": [
    {
     "name": "stdout",
     "output_type": "stream",
     "text": [
      "0\n",
      "1\n",
      "2\n",
      "3\n",
      "4\n",
      "5\n"
     ]
    }
   ],
   "source": [
    "for x in range(len(l)):\n",
    "  print(x)"
   ]
  },
  {
   "cell_type": "code",
   "execution_count": 66,
   "id": "2d48cae9-b7b6-4308-89a9-ee4a93eb26d8",
   "metadata": {},
   "outputs": [
    {
     "name": "stdout",
     "output_type": "stream",
     "text": [
      "at 0 we have 1\n",
      "at 1 we have 2\n",
      "at 2 we have 3\n",
      "at 3 we have 4\n",
      "at 4 we have 8\n",
      "at 5 we have red\n"
     ]
    }
   ],
   "source": [
    "for num, data in enumerate(l):\n",
    "  print(f'at {num} we have {data}')"
   ]
  },
  {
   "cell_type": "markdown",
   "id": "40afd228-739a-495c-9017-230de5cab39f",
   "metadata": {},
   "source": [
    "# Nor sure if your logic will work?"
   ]
  },
  {
   "cell_type": "code",
   "execution_count": 67,
   "id": "05ae4e56-ae46-4a98-ae25-cccd788a5e29",
   "metadata": {},
   "outputs": [
    {
     "ename": "ZeroDivisionError",
     "evalue": "division by zero",
     "output_type": "error",
     "traceback": [
      "\u001b[1;31m---------------------------------------------------------------------------\u001b[0m",
      "\u001b[1;31mZeroDivisionError\u001b[0m                         Traceback (most recent call last)",
      "Cell \u001b[1;32mIn[67], line 4\u001b[0m\n\u001b[0;32m      1\u001b[0m a \u001b[38;5;241m=\u001b[39m \u001b[38;5;241m10\u001b[39m\n\u001b[0;32m      2\u001b[0m b \u001b[38;5;241m=\u001b[39m \u001b[38;5;241m0\u001b[39m\n\u001b[1;32m----> 4\u001b[0m \u001b[43ma\u001b[49m\u001b[43m \u001b[49m\u001b[38;5;241;43m/\u001b[39;49m\u001b[43m \u001b[49m\u001b[43mb\u001b[49m\n",
      "\u001b[1;31mZeroDivisionError\u001b[0m: division by zero"
     ]
    }
   ],
   "source": [
    "a = 10\n",
    "b = 0\n",
    "\n",
    "a / b"
   ]
  },
  {
   "cell_type": "code",
   "execution_count": 68,
   "id": "37b732a9-2040-487f-9488-286e3b0227c6",
   "metadata": {},
   "outputs": [
    {
     "name": "stdout",
     "output_type": "stream",
     "text": [
      "works\n"
     ]
    }
   ],
   "source": [
    "a = 10\n",
    "b = 10\n",
    "\n",
    "try:\n",
    "  a/b\n",
    "  print(\"works\")\n",
    "except ZeroDivisionError:\n",
    "  print(\"b was 0 dude!\")"
   ]
  },
  {
   "cell_type": "code",
   "execution_count": 69,
   "id": "a2dad12b-cca7-4e67-a6d0-a3ec0f299e1f",
   "metadata": {},
   "outputs": [
    {
     "name": "stdout",
     "output_type": "stream",
     "text": [
      "b was 0 dude!\n",
      "I will always work\n"
     ]
    }
   ],
   "source": [
    "a = 10\n",
    "b = 0\n",
    "\n",
    "try:\n",
    "  a/b\n",
    "  print(\"works\")\n",
    "except ZeroDivisionError:\n",
    "  print(\"b was 0 dude!\")\n",
    "finally:\n",
    "  print(\"I will always work\")"
   ]
  },
  {
   "cell_type": "code",
   "execution_count": 70,
   "id": "079c9fa3-052a-4ca9-a5a9-38a92081cf55",
   "metadata": {},
   "outputs": [
    {
     "name": "stdout",
     "output_type": "stream",
     "text": [
      "____________________\n",
      "a = 1, b = 1 - Finally Step\n",
      "a = 1, b = 1 - main loop\n",
      "____________________\n",
      "a = 2, b = 0 - division by 0 ZDE Step\n",
      "a = 2, b = 0 - Finally Step\n",
      "____________________\n",
      "a = 3, b = -1 - Finally Step\n",
      "a = 3, b = -1 - main loop\n"
     ]
    }
   ],
   "source": [
    "a = 0\n",
    "b = 2\n",
    "\n",
    "while a < 3:\n",
    "    print(\"____________________\")\n",
    "    a += 1 # a = a + 1\n",
    "    b -= 1\n",
    "    try:\n",
    "        res = a / b\n",
    "    except ZeroDivisionError:\n",
    "        print(f'a = {a}, b = {b} - division by 0 ZDE Step')\n",
    "        res = 0\n",
    "        continue\n",
    "    finally:\n",
    "        print(f'a = {a}, b = {b} - Finally Step')\n",
    "    print(f'a = {a}, b = {b} - main loop')"
   ]
  },
  {
   "cell_type": "markdown",
   "id": "c868c744-550f-4011-bd9b-d3530d5f1269",
   "metadata": {},
   "source": [
    "# Class"
   ]
  },
  {
   "cell_type": "code",
   "execution_count": 71,
   "id": "2c6d57bb-ee4c-405a-8424-f423c409a538",
   "metadata": {},
   "outputs": [
    {
     "name": "stdout",
     "output_type": "stream",
     "text": [
      "1768366432880\n",
      "1768366958752\n"
     ]
    },
    {
     "data": {
      "text/plain": [
       "(3, 40)"
      ]
     },
     "execution_count": 71,
     "metadata": {},
     "output_type": "execute_result"
    }
   ],
   "source": [
    "class Rectangle:\n",
    "    def __init__(self, w, h):\n",
    "        self.widht = w\n",
    "        self.height = h\n",
    "        print(id(self))\n",
    "\n",
    "r1 = Rectangle(3, 4)\n",
    "r2 = Rectangle(30, 40)\n",
    "\n",
    "r1.widht, r2.height"
   ]
  },
  {
   "cell_type": "code",
   "execution_count": 72,
   "id": "47b52c95-23e1-4de1-b008-f029350aab0e",
   "metadata": {},
   "outputs": [],
   "source": [
    "class Rectangle():\n",
    "    def __init__ (self, width, height):\n",
    "        self.width = width\n",
    "        self.height = height\n",
    "\n",
    "    def area(self):\n",
    "        return self.width * self.height\n",
    "\n",
    "    def perimeter(self):\n",
    "        return 2 *  ( self.width + self.height)"
   ]
  },
  {
   "cell_type": "code",
   "execution_count": 73,
   "id": "a3b064d1-29ce-4687-b4ec-675c18f56500",
   "metadata": {},
   "outputs": [
    {
     "data": {
      "text/plain": [
       "200"
      ]
     },
     "execution_count": 73,
     "metadata": {},
     "output_type": "execute_result"
    }
   ],
   "source": [
    "r1 = Rectangle(10, 20)\n",
    "r1.area()"
   ]
  },
  {
   "cell_type": "code",
   "execution_count": 74,
   "id": "fbc09294-6f99-47f9-88c4-16dfc7cdc893",
   "metadata": {},
   "outputs": [
    {
     "name": "stdout",
     "output_type": "stream",
     "text": [
      "<__main__.Rectangle object at 0x0000019BBAE28620>\n"
     ]
    }
   ],
   "source": [
    "print(r1)"
   ]
  },
  {
   "cell_type": "code",
   "execution_count": 75,
   "id": "1bf101ad-af10-463b-8b55-1861f705d3fd",
   "metadata": {},
   "outputs": [
    {
     "name": "stdout",
     "output_type": "stream",
     "text": [
      "This is a rectangle stored at: 1768366656304\n"
     ]
    }
   ],
   "source": [
    "class Rectangle:\n",
    "    def __init__ (self, width, height):\n",
    "        self.width = width\n",
    "        self.height = height\n",
    "\n",
    "    def area(self):\n",
    "        return self.width * self.height\n",
    "\n",
    "    def perimeter(self):\n",
    "        return 2 *  ( self.width + self.height)\n",
    "\n",
    "    def __str__(self):\n",
    "        return \"This is a rectangle stored at: \" + str(id(self))\n",
    "\n",
    "r1 = Rectangle(10, 20)\n",
    "print(r1)"
   ]
  },
  {
   "cell_type": "code",
   "execution_count": 76,
   "id": "ebecdc20-d550-4493-90c3-bd3e318e8c67",
   "metadata": {},
   "outputs": [
    {
     "data": {
      "text/plain": [
       "<__main__.Rectangle at 0x19bbaddcb30>"
      ]
     },
     "execution_count": 76,
     "metadata": {},
     "output_type": "execute_result"
    }
   ],
   "source": [
    "r1"
   ]
  },
  {
   "cell_type": "code",
   "execution_count": 77,
   "id": "158c99aa-64ad-4324-8d57-cca5813d996d",
   "metadata": {},
   "outputs": [
    {
     "data": {
      "text/plain": [
       "This is a rectangle stored at: 1768366362736"
      ]
     },
     "execution_count": 77,
     "metadata": {},
     "output_type": "execute_result"
    }
   ],
   "source": [
    "class Rectangle:\n",
    "    def __init__ (self, width, height):\n",
    "        self.width = width\n",
    "        self.height = height\n",
    "\n",
    "    def area(self):\n",
    "        return self.width * self.height\n",
    "\n",
    "    def perimeter(self):\n",
    "        return 2 *  ( self.width + self.height)\n",
    "\n",
    "    def __str__(self):\n",
    "        return \"This is a rectangle stored at: \" + str(id(self))\n",
    "\n",
    "    def __repr__(self):\n",
    "        return \"This is a rectangle stored at: \" + str(id(self))\n",
    "\n",
    "r1 = Rectangle(10, 20)\n",
    "r1"
   ]
  },
  {
   "cell_type": "code",
   "execution_count": 78,
   "id": "89bf0a0d-908d-421d-bea4-6d3f02772ab7",
   "metadata": {},
   "outputs": [
    {
     "data": {
      "text/plain": [
       "False"
      ]
     },
     "execution_count": 78,
     "metadata": {},
     "output_type": "execute_result"
    }
   ],
   "source": [
    "class Rectangle:\n",
    "    def __init__ (self, width, height):\n",
    "        self.width = width\n",
    "        self.height = height\n",
    "\n",
    "    def area(self):\n",
    "        return self.width * self.height\n",
    "\n",
    "    def perimeter(self):\n",
    "        return 2 *  ( self.width + self.height)\n",
    "\n",
    "    def __str__(self):\n",
    "        return \"This is a rectangle stored at: \" + str(id(self))\n",
    "\n",
    "    def __repr__(self):\n",
    "        return \"This is a rectangle stored at: \" + str(id(self))\n",
    "\n",
    "    def __eq__(self, other):\n",
    "        if isinstance(other, Rectangle):\n",
    "            return (self.width, self.height) == (other.width, other.height)\n",
    "        else:\n",
    "            return False\n",
    "\n",
    "    def __lt__(self, other):\n",
    "        if isinstance(other, Rectangle):\n",
    "            return self.area() < other.area()\n",
    "        else:\n",
    "            return False\n",
    "\n",
    "r1 = Rectangle(100, 200)\n",
    "r2 = Rectangle(10, 20)\n",
    "r1 == r2"
   ]
  },
  {
   "cell_type": "code",
   "execution_count": 79,
   "id": "ac568728-f98f-45a5-8abe-f061eca2e8ff",
   "metadata": {},
   "outputs": [
    {
     "data": {
      "text/plain": [
       "False"
      ]
     },
     "execution_count": 79,
     "metadata": {},
     "output_type": "execute_result"
    }
   ],
   "source": [
    "r1 < r2"
   ]
  }
 ],
 "metadata": {
  "kernelspec": {
   "display_name": "FDS",
   "language": "python",
   "name": "fds"
  },
  "language_info": {
   "codemirror_mode": {
    "name": "ipython",
    "version": 3
   },
   "file_extension": ".py",
   "mimetype": "text/x-python",
   "name": "python",
   "nbconvert_exporter": "python",
   "pygments_lexer": "ipython3",
   "version": "3.12.1"
  }
 },
 "nbformat": 4,
 "nbformat_minor": 5
}
